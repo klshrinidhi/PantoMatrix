{
 "cells": [
  {
   "cell_type": "code",
   "execution_count": 10,
   "metadata": {},
   "outputs": [],
   "source": [
    "import csv\n",
    "import pathlib\n",
    "import os\n",
    "from collections import defaultdict\n",
    "import zipfile\n",
    "\n",
    "from tqdm import tqdm\n",
    "import numpy as np"
   ]
  },
  {
   "cell_type": "code",
   "execution_count": 3,
   "metadata": {},
   "outputs": [],
   "source": [
    "root_d = pathlib.Path('emage_amass30_beat2')\n",
    "amass_d = root_d / 'amass_smplx'\n",
    "beat2_d = root_d / 'beat_v2.0.0'\n",
    "data_d = root_d / 'emage_amass30_beat2'\n",
    "\n",
    "data_d.mkdir(parents=True,exist_ok=True)"
   ]
  },
  {
   "cell_type": "markdown",
   "metadata": {},
   "source": [
    "Subset of AMASS that has fps multiple of 30."
   ]
  },
  {
   "cell_type": "code",
   "execution_count": 4,
   "metadata": {},
   "outputs": [],
   "source": [
    "data_fs = [pathlib.Path(f'{rt}/{f}')\n",
    "           for rt,ds,fs in os.walk(amass_d)\n",
    "           for f in fs\n",
    "           if f.endswith('.npz')]\n",
    "data_fs.sort()"
   ]
  },
  {
   "cell_type": "code",
   "execution_count": 5,
   "metadata": {},
   "outputs": [
    {
     "name": "stderr",
     "output_type": "stream",
     "text": [
      "filtering 30fps files: 100%|███████████████████████████████████████████████████████████████████████████████████| 17430/17430 [00:30<00:00, 575.00it/s]"
     ]
    },
    {
     "name": "stdout",
     "output_type": "stream",
     "text": [
      "total files: 17430\n",
      "usable_files: 9977\n",
      "files not readable: 1\n",
      "files model type not usable: 0\n",
      "files missing mocap_frame_rate: 462\n",
      "files with frame rante not multiple of 30fps: 6990\n",
      "model types: ('smplx', 17429)\n",
      "mocap frame rate: (59, 13) (60, 532) (100, 6920) (120, 9436) (150, 9) (250, 57)\n"
     ]
    },
    {
     "name": "stderr",
     "output_type": "stream",
     "text": [
      "\n"
     ]
    }
   ],
   "source": [
    "amass_data_fs = list()\n",
    "files_not_readable = list()\n",
    "files_model_type_not_usable = list()\n",
    "files_mocap_frame_rate_key_missing = list()\n",
    "files_frame_rate_not_multiple_of_30 = list()\n",
    "all_model_types = defaultdict(int)\n",
    "all_fps = defaultdict(int)\n",
    "for f in tqdm(data_fs,desc='filtering 30fps files',ncols=150):\n",
    "    try:\n",
    "        data = np.load(f,allow_pickle=True)\n",
    "    except zipfile.BadZipFile:\n",
    "        files_not_readable.append(f)\n",
    "        continue\n",
    "    all_model_types[data['surface_model_type'].item()] += 1\n",
    "    if data['surface_model_type'].item() not in {'smplx','smplx_locked_head'}:\n",
    "        files_model_type_not_usable.append(f)\n",
    "        continue\n",
    "    if 'mocap_frame_rate' not in data:\n",
    "        files_mocap_frame_rate_key_missing.append(f)\n",
    "        continue\n",
    "    fps = int(data['mocap_frame_rate'].item())\n",
    "    all_fps[fps] += 1\n",
    "    if fps % 30 != 0:\n",
    "        files_frame_rate_not_multiple_of_30.append(f)\n",
    "        continue\n",
    "    amass_data_fs.append(f)\n",
    "print('total files:',len(data_fs))\n",
    "print('usable_files:',len(amass_data_fs))\n",
    "print('files not readable:',len(files_not_readable))\n",
    "print('files model type not usable:',len(files_model_type_not_usable))\n",
    "print('files missing mocap_frame_rate:',len(files_mocap_frame_rate_key_missing))\n",
    "print('files with frame rante not multiple of 30fps:',len(files_frame_rate_not_multiple_of_30))\n",
    "print('model types:',*sorted(all_model_types.items()))\n",
    "print('mocap frame rate:',*sorted(all_fps.items()))\n",
    "assert len(data_fs) == (len(amass_data_fs) + \n",
    "                        len(files_not_readable) + \n",
    "                        len(files_model_type_not_usable) + \n",
    "                        len(files_mocap_frame_rate_key_missing) + \n",
    "                        len(files_frame_rate_not_multiple_of_30))"
   ]
  },
  {
   "cell_type": "markdown",
   "metadata": {},
   "source": [
    "Number of usable files is 9977. Create symlinks to these files in the combined data dir. EMAGE code was written for BEAT2 which has all the npz files at the top level. Create the same structure here."
   ]
  },
  {
   "cell_type": "code",
   "execution_count": 7,
   "metadata": {},
   "outputs": [
    {
     "name": "stderr",
     "output_type": "stream",
     "text": [
      "creating symlinks: 100%|█████████████████████████████████████████████████████████████████████████████████████████| 9977/9977 [00:15<00:00, 645.99it/s]\n"
     ]
    }
   ],
   "source": [
    "for src_f in tqdm(amass_data_fs,desc='creating symlinks',ncols=150):\n",
    "    dst_f = data_d / str(src_f.relative_to(amass_d)).replace('/','__')\n",
    "    dst_f.symlink_to(src_f)"
   ]
  },
  {
   "cell_type": "markdown",
   "metadata": {},
   "source": [
    "Create symlinks to BEAT2 files in the combined data dir. There is no filtering needed for BEAT2 as all of them are 30fps already."
   ]
  },
  {
   "cell_type": "code",
   "execution_count": 8,
   "metadata": {},
   "outputs": [
    {
     "name": "stderr",
     "output_type": "stream",
     "text": [
      "creating symlinks: 100%|█████████████████████████████████████████████████████████████████████████████████████████| 2048/2048 [00:03<00:00, 669.18it/s]\n"
     ]
    }
   ],
   "source": [
    "beat2_data_fs = [pathlib.Path(f'{rt}/{f}')\n",
    "                 for rt,ds,fs in os.walk(beat2_d)\n",
    "                 for f in fs\n",
    "                 if f.endswith('.npz')]\n",
    "beat2_data_fs.sort()\n",
    "\n",
    "for src_f in tqdm(beat2_data_fs,desc='creating symlinks',ncols=150):\n",
    "    dst_f = data_d / str(src_f.relative_to(beat2_d)).replace('/','__')\n",
    "    dst_f.symlink_to(src_f)"
   ]
  },
  {
   "cell_type": "markdown",
   "metadata": {},
   "source": [
    "Make sure there are correct number of files in the data dir. Total should be `9977+2048=12025`."
   ]
  },
  {
   "cell_type": "code",
   "execution_count": 9,
   "metadata": {},
   "outputs": [
    {
     "name": "stdout",
     "output_type": "stream",
     "text": [
      "num files: 12025\n"
     ]
    }
   ],
   "source": [
    "data_fs = list(data_d.iterdir())\n",
    "data_fs.sort()\n",
    "\n",
    "print('num files:',len(data_fs))"
   ]
  },
  {
   "cell_type": "markdown",
   "metadata": {},
   "source": [
    "Create the train/val/test split file similar to BEAT2 because EMAGE code expects it. Here we will use the following:\n",
    "* train = AMASS30 + BEAT2-train + BEAT2-val + BEAT2-additional\n",
    "* val = BEAT2-test\n",
    "* test = BEAT2-test"
   ]
  },
  {
   "cell_type": "code",
   "execution_count": 28,
   "metadata": {},
   "outputs": [
    {
     "name": "stdout",
     "output_type": "stream",
     "text": [
      "num examples BEAT2 test: 355\n",
      "num examples BEAT2 train: 1383\n",
      "num examples BEAT2 additional: 198\n",
      "num examples BEAT2 val: 118\n"
     ]
    }
   ],
   "source": [
    "train_val_test = defaultdict(list)\n",
    "for train_val_test_f in beat2_d.glob('*/train_test_split.csv'):\n",
    "    for row in csv.DictReader(open(train_val_test_f)):\n",
    "        train_val_test[row['type']].append((train_val_test_f.parent.name,\n",
    "                                            row['id']))\n",
    "\n",
    "for k,v in train_val_test.items():\n",
    "    print(f'num examples BEAT2 {k}:',len(v))"
   ]
  },
  {
   "cell_type": "code",
   "execution_count": 33,
   "metadata": {},
   "outputs": [
    {
     "name": "stdout",
     "output_type": "stream",
     "text": [
      "num examples: 12380\n",
      "num train: 11670\n",
      "num train: 355\n",
      "num test: 355\n",
      "missing files: 7\n"
     ]
    }
   ],
   "source": [
    "rows = list()\n",
    "\n",
    "missing_files = list()\n",
    "added_files = set()\n",
    "\n",
    "n_test = 0\n",
    "n_val = 0\n",
    "for d,i in train_val_test['test']:\n",
    "    id = f'{d}__smplxflame_30__{i}'\n",
    "    f = data_d / f'{id}.npz'\n",
    "    if not f.is_file():\n",
    "        missing_files.append(f)\n",
    "        continue\n",
    "    rows.append({'id':id,\n",
    "                 'type':'test'})\n",
    "    rows.append({'id':id,\n",
    "                 'type':'val'})\n",
    "    n_test += 1\n",
    "    n_val += 1\n",
    "    added_files.add(f)\n",
    "    \n",
    "n_train = 0\n",
    "for d,i in (train_val_test['train'] + \n",
    "            train_val_test['val'] + \n",
    "            train_val_test['additional']):\n",
    "    id = f'{d}__smplxflame_30__{i}'\n",
    "    f = data_d / f'{id}.npz'\n",
    "    if not f.is_file():\n",
    "        missing_files.append(f)\n",
    "        continue\n",
    "    rows.append({'id':id,\n",
    "                 'type':'train'})\n",
    "    n_train += 1\n",
    "    added_files.add(f)\n",
    "    \n",
    "for f in data_fs:\n",
    "    if f in added_files:\n",
    "        continue\n",
    "    rows.append({'id':f.with_suffix('').name,\n",
    "                 'type':'train'})\n",
    "    n_train += 1\n",
    "    \n",
    "print('num examples:',len(rows))\n",
    "print('num train:',n_train)\n",
    "print('num train:',n_val)\n",
    "print('num test:',n_test)\n",
    "print('missing files:',len(missing_files))"
   ]
  },
  {
   "cell_type": "markdown",
   "metadata": {},
   "source": [
    "Missing files do not affect us. Moving on to write the csv."
   ]
  },
  {
   "cell_type": "code",
   "execution_count": 34,
   "metadata": {},
   "outputs": [],
   "source": [
    "csv_f = data_d / 'train_test_split.csv'\n",
    "with open(csv_f,'w') as csv_fh:\n",
    "    writer = csv.DictWriter(csv_fh,\n",
    "                            fieldnames=['id','type'])\n",
    "    writer.writeheader()\n",
    "    writer.writerows(rows)"
   ]
  },
  {
   "cell_type": "markdown",
   "metadata": {},
   "source": [
    "Move all the npz files to a sub-dir named `smplxflame_30`. EMAGE expects this structure."
   ]
  },
  {
   "cell_type": "code",
   "execution_count": 25,
   "metadata": {},
   "outputs": [
    {
     "name": "stdout",
     "output_type": "stream",
     "text": [
      "mv: cannot stat 'emage_amass30_beat2/*.txt': No such file or directory\n"
     ]
    }
   ],
   "source": [
    "!mkdir emage_amass30_beat2/smplxflame_30\n",
    "!mv emage_amass30_beat2/*.npz emage_amass30_beat2/smplxflame_30\n",
    "!mkdir emage_amass30_beat2/weights"
   ]
  }
 ],
 "metadata": {
  "kernelspec": {
   "display_name": "Python 3",
   "language": "python",
   "name": "python3"
  },
  "language_info": {
   "codemirror_mode": {
    "name": "ipython",
    "version": 3
   },
   "file_extension": ".py",
   "mimetype": "text/x-python",
   "name": "python",
   "nbconvert_exporter": "python",
   "pygments_lexer": "ipython3",
   "version": "3.8.20"
  }
 },
 "nbformat": 4,
 "nbformat_minor": 2
}
